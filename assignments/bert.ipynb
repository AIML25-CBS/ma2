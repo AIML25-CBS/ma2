{
 "cells": [
  {
   "cell_type": "markdown",
   "metadata": {},
   "source": [
    "# Mandatory Assignment 2\n",
    "\n",
    "#### Part II: BERT\n",
    "\n",
    "\n",
    "***\n",
    "Here you should build a BERT classifier for the same dataset, banking77, that you used in Part 1 (Bog of Words). You should report results using a classification report. Also, include some reflections on your results: how do they compare with the results from Part I, BoW? Are there any hyperparameters that are particularly important.\n",
    "\n",
    "You should follow the steps given in the bert_guide notebook, which are \n",
    "\n",
    "1. Activate GPU (If available)\n",
    "2. Load data\n",
    "3. Inspect data\n",
    "4. BERT Tokenizer\n",
    "5. BERT classifier\n",
    "6. Plot loss and accuracy\n",
    "7. Reflections\n",
    "\n",
    "\n",
    "***"
   ]
  },
  {
   "cell_type": "code",
   "execution_count": null,
   "metadata": {},
   "outputs": [],
   "source": []
  }
 ],
 "metadata": {
  "kernelspec": {
   "display_name": "aiml25-ma2",
   "language": "python",
   "name": "python3"
  },
  "language_info": {
   "codemirror_mode": {
    "name": "ipython",
    "version": 3
   },
   "file_extension": ".py",
   "mimetype": "text/x-python",
   "name": "python",
   "nbconvert_exporter": "python",
   "pygments_lexer": "ipython3",
   "version": "3.13.1"
  }
 },
 "nbformat": 4,
 "nbformat_minor": 2
}
