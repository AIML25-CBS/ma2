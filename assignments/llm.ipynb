{
 "cells": [
  {
   "cell_type": "markdown",
   "metadata": {},
   "source": [
    "# Mandatory Assignment 2\n",
    "\n",
    "#### Part III: LLM\n",
    "\n",
    "\n",
    "***\n",
    "Here you should deploy an LLM as classifier for the same dataset, banking77, that you used in Parts 1 (Bag of Words) and 2 (BERT). You should to define a prompt that gives the LLM information about the classes. You should report results using a classification report. Also, include some reflections on your results: how do they compare with the results from Parts I, and II? You should also reflect on the prompt you designed, and explore variations on that prompt.\n",
    "\n",
    "\n",
    "\n",
    "***"
   ]
  }
 ],
 "metadata": {
  "kernelspec": {
   "display_name": "aiml25-ma2",
   "language": "python",
   "name": "python3"
  },
  "language_info": {
   "codemirror_mode": {
    "name": "ipython",
    "version": 3
   },
   "file_extension": ".py",
   "mimetype": "text/x-python",
   "name": "python",
   "nbconvert_exporter": "python",
   "pygments_lexer": "ipython3",
   "version": "3.13.1"
  }
 },
 "nbformat": 4,
 "nbformat_minor": 2
}
