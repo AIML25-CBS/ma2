{
 "cells": [
  {
   "cell_type": "code",
   "execution_count": 13,
   "metadata": {},
   "outputs": [],
   "source": [
    "import requests\n",
    "\n",
    "from src_llm.utils import load_api_key\n",
    "from src_llm.wxai import get_access_token"
   ]
  },
  {
   "cell_type": "code",
   "execution_count": 14,
   "metadata": {},
   "outputs": [],
   "source": [
    "API_KEY = load_api_key() # load the API key from the environment variable (.env file)\n",
    "WX_ACCESS_TOKEN = get_access_token(API_KEY) # get the access token for WatsonX.ai API"
   ]
  },
  {
   "cell_type": "code",
   "execution_count": 16,
   "metadata": {},
   "outputs": [],
   "source": [
    "INPUT = \"What is the best way to teach about LLMs to non-CS students?\""
   ]
  },
  {
   "cell_type": "code",
   "execution_count": 25,
   "metadata": {},
   "outputs": [],
   "source": [
    "url = \"https://eu-de.ml.cloud.ibm.com/ml/v1/text/generation?version=2023-05-29\"\n",
    "\n",
    "body = {\n",
    "\t\"input\": INPUT,\t\n",
    "\t\"parameters\": {\n",
    "\t\t\"decoding_method\": \"sample\",\n",
    "\t\t\"max_new_tokens\": 900,\n",
    "\t\t\"min_new_tokens\": 0,\n",
    "\t\t\"random_seed\": None,\n",
    "\t\t\"stop_sequences\": [],\n",
    "\t\t\"temperature\": 0.7,\n",
    "\t\t\"top_k\": 50,\n",
    "\t\t\"top_p\": 1,\n",
    "\t\t\"repetition_penalty\": 1\n",
    "\t},\n",
    "\t\"model_id\": \"meta-llama/llama-3-3-70b-instruct\",\n",
    "\t\"project_id\": \"03c8604b-80df-4e4b-b084-03ddc4c4b9ab\"\n",
    "}\n",
    "\n",
    "headers = {\n",
    "\t\"Accept\": \"application/json\",\n",
    "\t\"Content-Type\": \"application/json\",\n",
    "\t\"Authorization\": f\"Bearer {WX_ACCESS_TOKEN}\"\n",
    "}\n",
    "\n",
    "response = requests.post(\n",
    "\turl,\n",
    "\theaders=headers,\n",
    "\tjson=body\n",
    ")\n",
    "\n",
    "if response.status_code != 200:\n",
    "\traise Exception(\"Non-200 response: \" + str(response.text))\n",
    "\n",
    "data = response.json()"
   ]
  },
  {
   "cell_type": "code",
   "execution_count": null,
   "metadata": {},
   "outputs": [],
   "source": [
    "data"
   ]
  },
  {
   "cell_type": "code",
   "execution_count": null,
   "metadata": {},
   "outputs": [],
   "source": [
    "print(data[\"results\"][0][\"generated_text\"])"
   ]
  }
 ],
 "metadata": {
  "kernelspec": {
   "display_name": "aiml25-ma2",
   "language": "python",
   "name": "python3"
  },
  "language_info": {
   "codemirror_mode": {
    "name": "ipython",
    "version": 3
   },
   "file_extension": ".py",
   "mimetype": "text/x-python",
   "name": "python",
   "nbconvert_exporter": "python",
   "pygments_lexer": "ipython3",
   "version": "3.13.1"
  }
 },
 "nbformat": 4,
 "nbformat_minor": 2
}
